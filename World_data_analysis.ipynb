{
 "cells": [
  {
   "cell_type": "markdown",
   "id": "47b8e2d9",
   "metadata": {},
   "source": [
    "# Population and density project"
   ]
  },
  {
   "cell_type": "code",
   "execution_count": null,
   "id": "df372d5f",
   "metadata": {},
   "outputs": [],
   "source": [
    "#Importing all essential liabraries\n",
    "import numpy as np\n",
    "import pandas as pd\n",
    "import seaborn as sns\n",
    "from plotly.subplots import make_subplots\n",
    "import matplotlib.pyplot as plt\n",
    "import plotly.express as px\n",
    "import missingno as msno\n",
    "import plotly.offline as py\n",
    "py.init_notebook_mode(connected=True)\n",
    "\n",
    "from sklearn.linear_model import LinearRegression\n",
    "from sklearn.model_selection import train_test_split\n",
    "from sklearn.metrics import mean_squared_error\n",
    "from sklearn.ensemble import RandomForestRegressor\n",
    "\n",
    "\n",
    "\n",
    "import warnings\n",
    "warnings.filterwarnings('ignore')"
   ]
  },
  {
   "cell_type": "markdown",
   "id": "7c63c94b",
   "metadata": {},
   "source": [
    "## Data exploration:"
   ]
  },
  {
   "cell_type": "code",
   "execution_count": null,
   "id": "a396a597",
   "metadata": {},
   "outputs": [],
   "source": [
    "#Upload the data we have recieved from crawling.\n",
    "\n",
    "df = pd.read_csv('final_data.csv')\n",
    "df.head()"
   ]
  },
  {
   "cell_type": "code",
   "execution_count": null,
   "id": "ecd6b3ca",
   "metadata": {},
   "outputs": [],
   "source": [
    "#Total size of the data before cleaning.\n",
    "\n",
    "df.shape"
   ]
  },
  {
   "cell_type": "code",
   "execution_count": null,
   "id": "61b3dfa1",
   "metadata": {},
   "outputs": [],
   "source": [
    "df.isnull().sum()"
   ]
  },
  {
   "cell_type": "code",
   "execution_count": null,
   "id": "e9e1b95d",
   "metadata": {},
   "outputs": [],
   "source": [
    "# Although we had this specific year growth rate, we couldnt find more specific by years growth rate.\n",
    "# So for this project we will only use the 5 years growth rate that we have.\n",
    "\n",
    "df.drop('2009 growth rate', axis=1, inplace=True)\n",
    "\n",
    "#Removing the rows that missing the most important data for the project.\n",
    "#which is the Area of the city and the growth rate.\n",
    "#as you can see this have made the data \"clean\", there is no more null in this dataframe.\n",
    "\n",
    "df.dropna(subset=['Area'], inplace=True)\n",
    "df.dropna(subset=['growth rate'], inplace=True)\n",
    "\n",
    "#If there is missing data of a 5 year growht rate we fill it with the current growth rate.\n",
    "\n",
    "df['2005-2010 growth rate'] = df['2005-2010 growth rate'].fillna(df['growth rate'])\n",
    "df['2010-2015 growth rate'] = df['2010-2015 growth rate'].fillna(df['growth rate'])\n",
    "df['2015-2020 growth rate'] = df['2015-2020 growth rate'].fillna(df['growth rate'])\n",
    "\n",
    "#checking the data state after removing.\n",
    "\n",
    "df.isnull().sum()"
   ]
  },
  {
   "cell_type": "code",
   "execution_count": null,
   "id": "e609f02b",
   "metadata": {},
   "outputs": [],
   "source": [
    "#Getting all the unique values in each feature\n",
    "features = df.columns\n",
    "for feature in features:\n",
    "    print(f\"{feature} ---> {df[feature].nunique()}\")"
   ]
  },
  {
   "cell_type": "markdown",
   "id": "640d7075",
   "metadata": {},
   "source": [
    "#### Feature Description:\n",
    "1. City - The city name\n",
    "2. Country - The country name\n",
    "3. Population - The city's population\n",
    "4. Area - The city's size by sq km\n",
    "5. Country population - The country's population\n",
    "6. Country area - The country's size by sq km\n",
    "7. Country density - The country's density by persons/sq km\n",
    "8. Growth rate - The country's growth rate (2023)\n",
    "9. 2005-2010 growth rate - The country's growth rate in the years 2005-2010\n",
    "10. 2010-2015 growth rate - The country's growth rate in the years 2010-2015\n",
    "11. 2015-2020 growth rate - The country's growth rate in the years 2015-2020"
   ]
  },
  {
   "cell_type": "code",
   "execution_count": null,
   "id": "5ecba9fe",
   "metadata": {},
   "outputs": [],
   "source": [
    "fig = px.choropleth(df,\n",
    "                    locations='Country',\n",
    "                    locationmode='country names',\n",
    "                    color='country population',  # we indicate the year we are interested in\n",
    "                    hover_name='Country',                    \n",
    "                    title = 'World population by country',\n",
    "                    color_continuous_scale='Viridis'\n",
    "                    )\n",
    "fig.show()"
   ]
  },
  {
   "cell_type": "code",
   "execution_count": null,
   "id": "f4b66177",
   "metadata": {},
   "outputs": [],
   "source": [
    "X = df[['Area', 'country population', 'country area', 'country density']]\n",
    "y = df['Population']\n",
    "\n",
    "model = LinearRegression()\n",
    "model.fit(X, y)\n",
    "\n",
    "y_pred = model.predict(X)\n",
    "\n",
    "plt.scatter(df.index, y, color='blue', label='Actual Population')\n",
    "plt.plot(df.index, y_pred, color='red', label='Predicted Population')\n",
    "plt.xlabel('Index')\n",
    "plt.ylabel('Population')\n",
    "plt.title('Linear Regression Model')\n",
    "plt.legend()\n",
    "plt.show()"
   ]
  },
  {
   "cell_type": "code",
   "execution_count": null,
   "id": "0cd78747",
   "metadata": {},
   "outputs": [],
   "source": [
    "X = df[['Area', 'country population', 'country area', 'country density']]\n",
    "y = df['Population']\n",
    "\n",
    "model = RandomForestRegressor(n_estimators=100, random_state=42)\n",
    "model.fit(X, y)\n",
    "\n",
    "y_pred = model.predict(X)\n",
    "\n",
    "plt.scatter(df.index, y, color='blue', label='Actual Population')\n",
    "plt.plot(df.index, y_pred, color='red', label='Predicted Population')\n",
    "plt.xlabel('Index')\n",
    "plt.ylabel('Population')\n",
    "plt.title('Random Forest Regression Model')\n",
    "plt.legend()\n",
    "plt.show()"
   ]
  },
  {
   "cell_type": "code",
   "execution_count": null,
   "id": "2ed4400c",
   "metadata": {},
   "outputs": [],
   "source": [
    "fig = px.choropleth(df,\n",
    "                    locations='Country',\n",
    "                    locationmode='country names',\n",
    "                    color='country density',\n",
    "                    hover_name='Country',                    \n",
    "                    title = 'World density',\n",
    "                    color_continuous_scale='amp'\n",
    "                    )\n",
    "fig.show()"
   ]
  },
  {
   "cell_type": "code",
   "execution_count": null,
   "id": "bba114c7",
   "metadata": {},
   "outputs": [],
   "source": [
    "df = df[['Country', 'country population', 'country area', 'country density', 'growth rate']]\n",
    "\n",
    "df = df.drop_duplicates(subset='Country')\n",
    "\n",
    "predictions_df = pd.DataFrame(df['Country'])\n",
    "\n",
    "X = df[['country population', 'country area', 'country density']]\n",
    "y = df['growth rate']\n",
    "\n",
    "model = LinearRegression()\n",
    "model.fit(X, y)\n",
    "\n",
    "predictions_df['Predicted Population 2050'] = df['country population'] * (1 + model.predict(X))\n",
    "predictions_df['Predicted Density 2050'] = predictions_df['Predicted Population 2050'] / df['country area']\n",
    "\n",
    "print(predictions_df)"
   ]
  },
  {
   "cell_type": "code",
   "execution_count": null,
   "id": "2197b548",
   "metadata": {},
   "outputs": [],
   "source": [
    "fig = px.choropleth(predictions_df,\n",
    "                    locations='Country',\n",
    "                    locationmode='country names',\n",
    "                    color='Predicted Density 2050',\n",
    "                    hover_name='Country',                    \n",
    "                    title = 'Predicted World density in 2050',\n",
    "                    color_continuous_scale='amp'\n",
    "                    )\n",
    "fig.show()"
   ]
  },
  {
   "cell_type": "code",
   "execution_count": null,
   "id": "37805d7a",
   "metadata": {},
   "outputs": [],
   "source": []
  },
  {
   "cell_type": "code",
   "execution_count": null,
   "id": "fbfe2d48",
   "metadata": {},
   "outputs": [],
   "source": []
  }
 ],
 "metadata": {
  "kernelspec": {
   "display_name": "Python 3 (ipykernel)",
   "language": "python",
   "name": "python3"
  },
  "language_info": {
   "codemirror_mode": {
    "name": "ipython",
    "version": 3
   },
   "file_extension": ".py",
   "mimetype": "text/x-python",
   "name": "python",
   "nbconvert_exporter": "python",
   "pygments_lexer": "ipython3",
   "version": "3.11.4"
  }
 },
 "nbformat": 4,
 "nbformat_minor": 5
}
